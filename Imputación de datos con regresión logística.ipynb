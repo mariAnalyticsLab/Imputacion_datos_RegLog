{
 "cells": [
  {
   "cell_type": "code",
   "execution_count": 1,
   "id": "e431f3da",
   "metadata": {},
   "outputs": [],
   "source": [
    "from sklearn.linear_model import LogisticRegression\n",
    "from sklearn.impute import SimpleImputer\n",
    "import pandas as pd\n",
    "import numpy as np\n",
    "import os\n",
    "import pandas as pd\n",
    "import numpy as np\n",
    "from sklearn.naive_bayes import GaussianNB"
   ]
  },
  {
   "cell_type": "code",
   "execution_count": 2,
   "id": "b1e40e8b",
   "metadata": {},
   "outputs": [],
   "source": [
    "os.chdir(\"C:/Users\\maria\\OneDrive\\Documents\\VC\")"
   ]
  },
  {
   "cell_type": "code",
   "execution_count": 3,
   "id": "7d9b4042",
   "metadata": {},
   "outputs": [],
   "source": [
    "df_responses = pd.read_csv(\"datos1.csv\", header=None)"
   ]
  },
  {
   "cell_type": "code",
   "execution_count": 4,
   "id": "b14b2f3a",
   "metadata": {},
   "outputs": [],
   "source": [
    "num_rows, num_cols = 76, 40\n",
    "# Rellenar filas o columnas faltantes con ceros si es necesario\n",
    "df_responses = df_responses.reindex(range(num_rows), fill_value=0)\n",
    "df_responses = df_responses.reindex(columns=range(num_cols), fill_value=0)\n",
    "\n",
    "# Crear un DataFrame para almacenar las predicciones\n",
    "df_predictions = df_responses.copy()\n",
    "\n",
    "# Entrenar y predecir valores faltantes columna por columna\n",
    "for col in df_responses.columns:\n",
    "    for row in range(num_rows):\n",
    "        if df_responses.iloc[row, col] == 0:\n",
    "            # Seleccionar datos completos para entrenar\n",
    "            complete_cases = df_responses[df_responses[col] != 0]\n",
    "            if complete_cases[col].nunique() > 1:\n",
    "                X_train = complete_cases.drop(columns=[col])\n",
    "                y_train = complete_cases[col]\n",
    "                \n",
    "                # Entrenar el modelo de Naive Bayes\n",
    "                nb = GaussianNB()\n",
    "                nb.fit(X_train, y_train)\n",
    "                \n",
    "                # Predecir el valor faltante\n",
    "                X_test = df_responses.iloc[row].drop(col).values.reshape(1, -1)\n",
    "                predicted_value = nb.predict(X_test)[0]\n",
    "                \n",
    "                # Actualizar el valor predicho en df_predictions\n",
    "                df_predictions.iloc[row, col] = predicted_value"
   ]
  },
  {
   "cell_type": "code",
   "execution_count": 15,
   "id": "0f10ee22",
   "metadata": {
    "scrolled": true
   },
   "outputs": [],
   "source": [
    "df_predictions.to_csv('datoscompletos1.csv', header=False, index=False)"
   ]
  }
 ],
 "metadata": {
  "kernelspec": {
   "display_name": "Python 3 (ipykernel)",
   "language": "python",
   "name": "python3"
  },
  "language_info": {
   "codemirror_mode": {
    "name": "ipython",
    "version": 3
   },
   "file_extension": ".py",
   "mimetype": "text/x-python",
   "name": "python",
   "nbconvert_exporter": "python",
   "pygments_lexer": "ipython3",
   "version": "3.11.5"
  }
 },
 "nbformat": 4,
 "nbformat_minor": 5
}
